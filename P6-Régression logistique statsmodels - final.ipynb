{
 "cells": [
  {
   "cell_type": "markdown",
   "metadata": {
    "toc": true
   },
   "source": [
    "<h1>Table des matières<span class=\"tocSkip\"></span></h1>\n",
    "<div class=\"toc\"><ul class=\"toc-item\"><li><span><a href=\"#Régression-logistique-(statsmodels)\" data-toc-modified-id=\"Régression-logistique-(statsmodels)-1\"><span class=\"toc-item-num\">1&nbsp;&nbsp;</span>Régression logistique (statsmodels)</a></span><ul class=\"toc-item\"><li><span><a href=\"#Logit-6-variables\" data-toc-modified-id=\"Logit-6-variables-1.1\"><span class=\"toc-item-num\">1.1&nbsp;&nbsp;</span>Logit 6 variables</a></span></li><li><span><a href=\"#Logit-5-variables\" data-toc-modified-id=\"Logit-5-variables-1.2\"><span class=\"toc-item-num\">1.2&nbsp;&nbsp;</span>Logit 5 variables</a></span></li><li><span><a href=\"#Logit-4-variables\" data-toc-modified-id=\"Logit-4-variables-1.3\"><span class=\"toc-item-num\">1.3&nbsp;&nbsp;</span>Logit 4 variables</a></span></li></ul></li><li><span><a href=\"#Entraînement-du-modèle-(Scikit-Learn)\" data-toc-modified-id=\"Entraînement-du-modèle-(Scikit-Learn)-2\"><span class=\"toc-item-num\">2&nbsp;&nbsp;</span>Entraînement du modèle (Scikit-Learn)</a></span><ul class=\"toc-item\"><li><span><a href=\"#Train-test\" data-toc-modified-id=\"Train-test-2.1\"><span class=\"toc-item-num\">2.1&nbsp;&nbsp;</span>Train test</a></span></li><li><span><a href=\"#Confusion-matrix\" data-toc-modified-id=\"Confusion-matrix-2.2\"><span class=\"toc-item-num\">2.2&nbsp;&nbsp;</span>Confusion matrix</a></span></li></ul></li><li><span><a href=\"#Algorithme-de-classification\" data-toc-modified-id=\"Algorithme-de-classification-3\"><span class=\"toc-item-num\">3&nbsp;&nbsp;</span>Algorithme de classification</a></span><ul class=\"toc-item\"><li><span><a href=\"#Test-de-l'algorithme\" data-toc-modified-id=\"Test-de-l'algorithme-3.1\"><span class=\"toc-item-num\">3.1&nbsp;&nbsp;</span>Test de l'algorithme</a></span></li><li><span><a href=\"#Vérification-de-l'algorithme\" data-toc-modified-id=\"Vérification-de-l'algorithme-3.2\"><span class=\"toc-item-num\">3.2&nbsp;&nbsp;</span>Vérification de l'algorithme</a></span></li></ul></li></ul></div>"
   ]
  },
  {
   "cell_type": "markdown",
   "metadata": {},
   "source": [
    "# Mission 3"
   ]
  },
  {
   "cell_type": "code",
   "execution_count": 1,
   "metadata": {},
   "outputs": [],
   "source": [
    "import numpy as np\n",
    "import pandas as pd\n",
    "import matplotlib.pyplot as plt\n",
    "import seaborn as sns\n",
    "sns.set()\n",
    "\n",
    "import statsmodels.api as sm\n",
    "from statsmodels.stats.outliers_influence import variance_inflation_factor\n",
    "\n",
    "#Apply a fix to the statsmodels library\n",
    "from scipy import stats\n",
    "stats.chisqprob = lambda chisq, df: stats.chi2.sf(chisq, df)"
   ]
  },
  {
   "cell_type": "code",
   "execution_count": 2,
   "metadata": {},
   "outputs": [],
   "source": [
    "# sépatateurs milliers = , et 3 décimales\n",
    "pd.options.display.float_format = '{:,.2f}'.format"
   ]
  },
  {
   "cell_type": "code",
   "execution_count": 3,
   "metadata": {},
   "outputs": [
    {
     "data": {
      "text/html": [
       "<div>\n",
       "<style scoped>\n",
       "    .dataframe tbody tr th:only-of-type {\n",
       "        vertical-align: middle;\n",
       "    }\n",
       "\n",
       "    .dataframe tbody tr th {\n",
       "        vertical-align: top;\n",
       "    }\n",
       "\n",
       "    .dataframe thead th {\n",
       "        text-align: right;\n",
       "    }\n",
       "</style>\n",
       "<table border=\"1\" class=\"dataframe\">\n",
       "  <thead>\n",
       "    <tr style=\"text-align: right;\">\n",
       "      <th></th>\n",
       "      <th>is_genuine</th>\n",
       "      <th>length</th>\n",
       "      <th>diagonal</th>\n",
       "      <th>height_left</th>\n",
       "      <th>height_right</th>\n",
       "      <th>margin_low</th>\n",
       "      <th>margin_up</th>\n",
       "    </tr>\n",
       "    <tr>\n",
       "      <th>id</th>\n",
       "      <th></th>\n",
       "      <th></th>\n",
       "      <th></th>\n",
       "      <th></th>\n",
       "      <th></th>\n",
       "      <th></th>\n",
       "      <th></th>\n",
       "    </tr>\n",
       "  </thead>\n",
       "  <tbody>\n",
       "    <tr>\n",
       "      <th>0</th>\n",
       "      <td>True</td>\n",
       "      <td>112.83</td>\n",
       "      <td>171.81</td>\n",
       "      <td>104.86</td>\n",
       "      <td>104.95</td>\n",
       "      <td>4.52</td>\n",
       "      <td>2.89</td>\n",
       "    </tr>\n",
       "  </tbody>\n",
       "</table>\n",
       "</div>"
      ],
      "text/plain": [
       "    is_genuine  length  diagonal  height_left  height_right  margin_low  \\\n",
       "id                                                                        \n",
       "0         True  112.83    171.81       104.86        104.95        4.52   \n",
       "\n",
       "    margin_up  \n",
       "id             \n",
       "0        2.89  "
      ]
     },
     "execution_count": 3,
     "metadata": {},
     "output_type": "execute_result"
    }
   ],
   "source": [
    "# rappel du fichier\n",
    "raw = pd.read_csv('data/p_notes.csv', index_col=0)\n",
    "raw.head(1)"
   ]
  },
  {
   "cell_type": "code",
   "execution_count": 4,
   "metadata": {},
   "outputs": [],
   "source": [
    "# corrélation entre variables\n",
    "c = raw[['length','diagonal','height_left','height_right','margin_low','margin_up']]\n",
    "corr=c.corr().abs() * 100"
   ]
  },
  {
   "cell_type": "code",
   "execution_count": 5,
   "metadata": {},
   "outputs": [
    {
     "data": {
      "image/png": "[encoded data removed]",
      "text/plain": [
       "<Figure size 576x576 with 1 Axes>"
      ]
     },
     "metadata": {},
     "output_type": "display_data"
    }
   ],
   "source": [
    "# heatmap corrélations\n",
    "sns.set_style('whitegrid')\n",
    "\n",
    "# géneration du masque\n",
    "mask = np.zeros_like(corr, dtype=np.bool)\n",
    "mask[np.triu_indices_from(mask)] = True\n",
    "\n",
    "# graphique\n",
    "f, ax = plt.subplots(figsize=(8,8))\n",
    "sns.heatmap(corr,mask=mask, vmin=-0, vmax=80,annot=True,annot_kws={\"size\": 16},cbar=False,linewidths=.5,cmap=sns.color_palette(\"Blues\",6))\n",
    "\n",
    "# custom\n",
    "plt.title(\"Heatmap corrélations\", fontsize=16, color = 'navy')\n",
    "plt.yticks(rotation=90, fontsize=\"12\", va=\"center\")\n",
    "plt.yticks(rotation=0, fontsize=\"12\", va=\"center\")\n",
    "plt.savefig('img/P6.3_heatmap_cor.png',dpi=120, bbox_inches='tight')\n",
    "\n",
    "plt.show()\n",
    "plt.close()"
   ]
  },
  {
   "cell_type": "markdown",
   "metadata": {},
   "source": [
    "## Régression logistique (statsmodels)"
   ]
  },
  {
   "cell_type": "markdown",
   "metadata": {},
   "source": [
    "### Logit 6 variables"
   ]
  },
  {
   "cell_type": "code",
   "execution_count": 8,
   "metadata": {},
   "outputs": [],
   "source": [
    "# déclaration des variables dépendante et indépendantes\n",
    "y = raw.is_genuine.astype('int32')\n",
    "x1 = raw[['length','diagonal','height_left','height_right','margin_low','margin_up']]"
   ]
  },
  {
   "cell_type": "raw",
   "metadata": {
    "collapsed": true
   },
   "source": [
    "x = sm.add_constant(x1)\n",
    "reg_log = sm.Logit(y,x)\n",
    "results_log = reg_log.fit()\n",
    "results_log.summary()"
   ]
  },
  {
   "cell_type": "markdown",
   "metadata": {},
   "source": [
    "* **Le modèle ne converge pas après 35 itérations**\n",
    "* **Corrélation élevée entre 'height_right et 'height_right' (73%), VIF heigh_left=12,21 => supression de 'height_left'**"
   ]
  },
  {
   "cell_type": "markdown",
   "metadata": {},
   "source": [
    "### Logit 5 variables"
   ]
  },
  {
   "cell_type": "code",
   "execution_count": 9,
   "metadata": {},
   "outputs": [
    {
     "data": {
      "text/html": [
       "<div>\n",
       "<style scoped>\n",
       "    .dataframe tbody tr th:only-of-type {\n",
       "        vertical-align: middle;\n",
       "    }\n",
       "\n",
       "    .dataframe tbody tr th {\n",
       "        vertical-align: top;\n",
       "    }\n",
       "\n",
       "    .dataframe thead th {\n",
       "        text-align: right;\n",
       "    }\n",
       "</style>\n",
       "<table border=\"1\" class=\"dataframe\">\n",
       "  <thead>\n",
       "    <tr style=\"text-align: right;\">\n",
       "      <th></th>\n",
       "      <th>length</th>\n",
       "      <th>diagonal</th>\n",
       "      <th>height_right</th>\n",
       "      <th>margin_low</th>\n",
       "      <th>margin_up</th>\n",
       "    </tr>\n",
       "    <tr>\n",
       "      <th>id</th>\n",
       "      <th></th>\n",
       "      <th></th>\n",
       "      <th></th>\n",
       "      <th></th>\n",
       "      <th></th>\n",
       "    </tr>\n",
       "  </thead>\n",
       "  <tbody>\n",
       "    <tr>\n",
       "      <th>0</th>\n",
       "      <td>112.83</td>\n",
       "      <td>171.81</td>\n",
       "      <td>104.95</td>\n",
       "      <td>4.52</td>\n",
       "      <td>2.89</td>\n",
       "    </tr>\n",
       "  </tbody>\n",
       "</table>\n",
       "</div>"
      ],
      "text/plain": [
       "    length  diagonal  height_right  margin_low  margin_up\n",
       "id                                                       \n",
       "0   112.83    171.81        104.95        4.52       2.89"
      ]
     },
     "execution_count": 9,
     "metadata": {},
     "output_type": "execute_result"
    }
   ],
   "source": [
    "# déclaration des variables dépendante et indépendantes\n",
    "y = raw.is_genuine.astype('int32')\n",
    "x1 = raw[['length','diagonal','height_right','margin_low','margin_up']]\n",
    "x1.head(1)"
   ]
  },
  {
   "cell_type": "raw",
   "metadata": {
    "collapsed": true
   },
   "source": [
    "x = sm.add_constant(x1)\n",
    "reg_log = sm.Logit(y,x)\n",
    "results_log = reg_log.fit()\n",
    "results_log.summary()"
   ]
  },
  {
   "cell_type": "markdown",
   "metadata": {},
   "source": [
    "* **Le modèle ne converge pas après 35 itérations**\n",
    "* **Corrélation élevée entre 'length' et 'margin_low' (64%), VIF margin_low=7,95 => supression de 'margin_low'**"
   ]
  },
  {
   "cell_type": "markdown",
   "metadata": {},
   "source": [
    "### Logit 4 variables"
   ]
  },
  {
   "cell_type": "code",
   "execution_count": 10,
   "metadata": {},
   "outputs": [],
   "source": [
    "# déclaration des variables dépendante et indépendantes\n",
    "y = raw.is_genuine.astype('int32')\n",
    "x1 = raw[['length','diagonal','height_right','margin_up']].values"
   ]
  },
  {
   "cell_type": "code",
   "execution_count": 13,
   "metadata": {},
   "outputs": [
    {
     "name": "stdout",
     "output_type": "stream",
     "text": [
      "Optimization terminated successfully.\n",
      "         Current function value: 0.125572\n",
      "         Iterations 10\n"
     ]
    },
    {
     "data": {
      "text/html": [
       "<table class=\"simpletable\">\n",
       "<caption>Logit Regression Results</caption>\n",
       "<tr>\n",
       "  <th>Dep. Variable:</th>      <td>is_genuine</td>    <th>  No. Observations:  </th>  <td>   170</td>  \n",
       "</tr>\n",
       "<tr>\n",
       "  <th>Model:</th>                 <td>Logit</td>      <th>  Df Residuals:      </th>  <td>   165</td>  \n",
       "</tr>\n",
       "<tr>\n",
       "  <th>Method:</th>                 <td>MLE</td>       <th>  Df Model:          </th>  <td>     4</td>  \n",
       "</tr>\n",
       "<tr>\n",
       "  <th>Date:</th>            <td>Fri, 31 Jan 2020</td> <th>  Pseudo R-squ.:     </th>  <td>0.8147</td>  \n",
       "</tr>\n",
       "<tr>\n",
       "  <th>Time:</th>                <td>14:58:04</td>     <th>  Log-Likelihood:    </th> <td> -21.347</td> \n",
       "</tr>\n",
       "<tr>\n",
       "  <th>converged:</th>             <td>True</td>       <th>  LL-Null:           </th> <td> -115.17</td> \n",
       "</tr>\n",
       "<tr>\n",
       "  <th>Covariance Type:</th>     <td>nonrobust</td>    <th>  LLR p-value:       </th> <td>1.692e-39</td>\n",
       "</tr>\n",
       "</table>\n",
       "<table class=\"simpletable\">\n",
       "<tr>\n",
       "    <td></td>       <th>coef</th>     <th>std err</th>      <th>z</th>      <th>P>|z|</th>  <th>[0.025</th>    <th>0.975]</th>  \n",
       "</tr>\n",
       "<tr>\n",
       "  <th>const</th> <td> -402.2483</td> <td>  258.483</td> <td>   -1.556</td> <td> 0.120</td> <td> -908.865</td> <td>  104.368</td>\n",
       "</tr>\n",
       "<tr>\n",
       "  <th>x1</th>    <td>    3.4597</td> <td>    0.728</td> <td>    4.753</td> <td> 0.000</td> <td>    2.033</td> <td>    4.886</td>\n",
       "</tr>\n",
       "<tr>\n",
       "  <th>x2</th>    <td>    2.9821</td> <td>    1.376</td> <td>    2.167</td> <td> 0.030</td> <td>    0.285</td> <td>    5.679</td>\n",
       "</tr>\n",
       "<tr>\n",
       "  <th>x3</th>    <td>   -4.6289</td> <td>    1.537</td> <td>   -3.011</td> <td> 0.003</td> <td>   -7.642</td> <td>   -1.616</td>\n",
       "</tr>\n",
       "<tr>\n",
       "  <th>x4</th>    <td>   -5.6137</td> <td>    2.695</td> <td>   -2.083</td> <td> 0.037</td> <td>  -10.896</td> <td>   -0.331</td>\n",
       "</tr>\n",
       "</table>"
      ],
      "text/plain": [
       "<class 'statsmodels.iolib.summary.Summary'>\n",
       "\"\"\"\n",
       "                           Logit Regression Results                           \n",
       "==============================================================================\n",
       "Dep. Variable:             is_genuine   No. Observations:                  170\n",
       "Model:                          Logit   Df Residuals:                      165\n",
       "Method:                           MLE   Df Model:                            4\n",
       "Date:                Fri, 31 Jan 2020   Pseudo R-squ.:                  0.8147\n",
       "Time:                        14:58:04   Log-Likelihood:                -21.347\n",
       "converged:                       True   LL-Null:                       -115.17\n",
       "Covariance Type:            nonrobust   LLR p-value:                 1.692e-39\n",
       "==============================================================================\n",
       "                 coef    std err          z      P>|z|      [0.025      0.975]\n",
       "------------------------------------------------------------------------------\n",
       "const       -402.2483    258.483     -1.556      0.120    -908.865     104.368\n",
       "x1             3.4597      0.728      4.753      0.000       2.033       4.886\n",
       "x2             2.9821      1.376      2.167      0.030       0.285       5.679\n",
       "x3            -4.6289      1.537     -3.011      0.003      -7.642      -1.616\n",
       "x4            -5.6137      2.695     -2.083      0.037     -10.896      -0.331\n",
       "==============================================================================\n",
       "\"\"\""
      ]
     },
     "execution_count": 13,
     "metadata": {},
     "output_type": "execute_result"
    }
   ],
   "source": [
    "x = sm.add_constant(x1)\n",
    "reg_log = sm.Logit(y,x)\n",
    "results_log = reg_log.fit()\n",
    "results_log.summary()"
   ]
  },
  {
   "cell_type": "markdown",
   "metadata": {},
   "source": [
    "* Log-Likelihood Ratio Test LL-Null p-value est quasi-nul => **Notre modèle est significatif**\n",
    "* Les ratio P>z (p-values) des variables sont significatifs (5%<)\n",
    "* coef p(v/f) augmente"
   ]
  },
  {
   "cell_type": "code",
   "execution_count": 14,
   "metadata": {},
   "outputs": [
    {
     "data": {
      "text/plain": [
       "array([0.2, 1.0, 1.0, 1.0, 1.0, 1.0, 1.0, 1.0, 1.0, 0.7, 0.9, 1.0, 1.0,\n",
       "       1.0, 1.0, 1.0, 1.0, 1.0, 1.0, 1.0, 1.0, 1.0, 1.0, 1.0, 0.9, 1.0,\n",
       "       1.0, 1.0, 1.0, 1.0, 1.0, 1.0, 0.9, 1.0, 1.0, 1.0, 1.0, 1.0, 1.0,\n",
       "       1.0, 1.0, 1.0, 1.0, 1.0, 1.0, 1.0, 1.0, 1.0, 0.9, 1.0, 1.0, 1.0,\n",
       "       0.5, 1.0, 1.0, 1.0, 1.0, 1.0, 0.9, 1.0, 1.0, 1.0, 1.0, 0.9, 1.0,\n",
       "       0.8, 1.0, 1.0, 1.0, 0.0, 0.3, 1.0, 0.9, 1.0, 1.0, 1.0, 1.0, 0.9,\n",
       "       0.8, 1.0, 0.9, 1.0, 1.0, 0.9, 0.8, 1.0, 1.0, 1.0, 0.9, 1.0, 1.0,\n",
       "       1.0, 1.0, 1.0, 1.0, 1.0, 0.8, 1.0, 1.0, 1.0, 0.0, 0.0, 0.1, 0.0,\n",
       "       0.0, 0.1, 0.0, 0.0, 0.0, 0.0, 0.0, 0.1, 0.0, 0.0, 0.2, 0.1, 0.1,\n",
       "       0.1, 0.9, 0.0, 0.0, 0.0, 0.0, 0.0, 0.0, 0.0, 0.0, 0.0, 0.1, 0.0,\n",
       "       0.0, 0.0, 0.0, 0.0, 0.1, 0.0, 0.0, 0.0, 0.0, 0.6, 0.0, 0.1, 0.0,\n",
       "       0.0, 0.9, 0.8, 0.0, 0.0, 0.0, 0.0, 0.6, 0.0, 0.1, 0.0, 0.0, 0.0,\n",
       "       0.0, 0.0, 0.0, 0.0, 0.0, 0.0, 0.0, 0.0, 0.0, 0.0, 0.1, 0.0, 0.0,\n",
       "       0.0])"
      ]
     },
     "execution_count": 14,
     "metadata": {},
     "output_type": "execute_result"
    }
   ],
   "source": [
    "np.set_printoptions(formatter={'float': lambda x: \"{0:0.1f}\".format(x)})\n",
    "# predicted values\n",
    "results_log.predict()"
   ]
  },
  {
   "cell_type": "code",
   "execution_count": 15,
   "metadata": {},
   "outputs": [
    {
     "data": {
      "text/plain": [
       "array([1, 1, 1, 1, 1, 1, 1, 1, 1, 1, 1, 1, 1, 1, 1, 1, 1, 1, 1, 1, 1, 1,\n",
       "       1, 1, 1, 1, 1, 1, 1, 1, 1, 1, 1, 1, 1, 1, 1, 1, 1, 1, 1, 1, 1, 1,\n",
       "       1, 1, 1, 1, 1, 1, 1, 1, 1, 1, 1, 1, 1, 1, 1, 1, 1, 1, 1, 1, 1, 1,\n",
       "       1, 1, 1, 1, 1, 1, 1, 1, 1, 1, 1, 1, 1, 1, 1, 1, 1, 1, 1, 1, 1, 1,\n",
       "       1, 1, 1, 1, 1, 1, 1, 1, 1, 1, 1, 1, 0, 0, 0, 0, 0, 0, 0, 0, 0, 0,\n",
       "       0, 0, 0, 0, 0, 0, 0, 0, 0, 0, 0, 0, 0, 0, 0, 0, 0, 0, 0, 0, 0, 0,\n",
       "       0, 0, 0, 0, 0, 0, 0, 0, 0, 0, 0, 0, 0, 0, 0, 0, 0, 0, 0, 0, 0, 0,\n",
       "       0, 0, 0, 0, 0, 0, 0, 0, 0, 0, 0, 0, 0, 0, 0, 0])"
      ]
     },
     "execution_count": 15,
     "metadata": {},
     "output_type": "execute_result"
    }
   ],
   "source": [
    "# actual values\n",
    "actual=raw['is_genuine'].astype('int32')\n",
    "np.array(actual)"
   ]
  },
  {
   "cell_type": "markdown",
   "metadata": {},
   "source": [
    "## Entraînement du modèle (Scikit-Learn)"
   ]
  },
  {
   "cell_type": "code",
   "execution_count": 16,
   "metadata": {},
   "outputs": [],
   "source": [
    "from sklearn import datasets\n",
    "from sklearn.model_selection import train_test_split\n",
    "from sklearn.linear_model import LogisticRegression\n",
    "from sklearn.cluster import AgglomerativeClustering\n",
    "from sklearn.metrics import confusion_matrix,roc_auc_score, roc_curve, auc,precision_recall_curve\n",
    "from sklearn import preprocessing, cluster, linear_model, metrics, model_selection\n",
    "import joblib\n"
   ]
  },
  {
   "cell_type": "markdown",
   "metadata": {},
   "source": [
    "### Train test"
   ]
  },
  {
   "cell_type": "code",
   "execution_count": 17,
   "metadata": {},
   "outputs": [],
   "source": [
    "x1_train, x1_test, y_train, y_test = model_selection.train_test_split(x1,y,test_size=0.3, random_state=0)\n",
    "\n",
    "logreg = linear_model.LogisticRegression(random_state=0, solver='liblinear').fit(x1_train, y_train.values.ravel())\n",
    "predicted = logreg.predict_proba(x1_test)[:,1]"
   ]
  },
  {
   "cell_type": "code",
   "execution_count": 18,
   "metadata": {},
   "outputs": [
    {
     "name": "stdout",
     "output_type": "stream",
     "text": [
      "Set d'entraînement : 119 individus\n",
      "Set de validation :  51 individus\n",
      "Variance expliquée : 0.84\n",
      "Score Log_loss : 0.17\n"
     ]
    }
   ],
   "source": [
    "print(\"Set d'entraînement : %d individus\" % x1_train.shape[0])\n",
    "print(\"Set de validation :  %d individus\" % x1_test.shape[0])\n",
    "print(\"Variance expliquée : %.2f\" % metrics.explained_variance_score(y_test, predicted))\n",
    "print(\"Score Log_loss : %.2f\" % metrics.log_loss(y_test, predicted))"
   ]
  },
  {
   "cell_type": "code",
   "execution_count": 19,
   "metadata": {},
   "outputs": [
    {
     "data": {
      "text/plain": [
       "array([0, 0, 0, 1, 1, 1, 1, 1, 0, 1, 0, 1, 1, 0, 1, 1, 1, 0, 1, 1, 0, 1,\n",
       "       0, 0, 0, 1, 1, 0, 1, 1, 1, 0, 1, 1, 0, 1, 1, 0, 0, 1, 1, 0, 1, 0,\n",
       "       1, 0, 1, 1, 1, 0, 0])"
      ]
     },
     "execution_count": 19,
     "metadata": {},
     "output_type": "execute_result"
    }
   ],
   "source": [
    "logreg.predict(x1_test)"
   ]
  },
  {
   "cell_type": "code",
   "execution_count": 20,
   "metadata": {},
   "outputs": [
    {
     "data": {
      "text/plain": [
       "0.9607843137254902"
      ]
     },
     "execution_count": 20,
     "metadata": {},
     "output_type": "execute_result"
    }
   ],
   "source": [
    "logreg.score(x1_test, y_test)"
   ]
  },
  {
   "cell_type": "code",
   "execution_count": 21,
   "metadata": {
    "scrolled": true
   },
   "outputs": [
    {
     "data": {
      "text/plain": [
       "array([[0.9, 0.1],\n",
       "       [0.9, 0.1],\n",
       "       [0.8, 0.2],\n",
       "       [0.0, 1.0],\n",
       "       [0.1, 0.9],\n",
       "       [0.1, 0.9],\n",
       "       [0.0, 1.0],\n",
       "       [0.3, 0.7],\n",
       "       [1.0, 0.0],\n",
       "       [0.1, 0.9],\n",
       "       [0.8, 0.2],\n",
       "       [0.2, 0.8],\n",
       "       [0.2, 0.8],\n",
       "       [0.9, 0.1],\n",
       "       [0.0, 1.0],\n",
       "       [0.1, 0.9],\n",
       "       [0.0, 1.0],\n",
       "       [1.0, 0.0],\n",
       "       [0.0, 1.0],\n",
       "       [0.1, 0.9],\n",
       "       [1.0, 0.0],\n",
       "       [0.0, 1.0],\n",
       "       [0.8, 0.2],\n",
       "       [1.0, 0.0],\n",
       "       [0.9, 0.1],\n",
       "       [0.0, 1.0],\n",
       "       [0.1, 0.9],\n",
       "       [0.8, 0.2],\n",
       "       [0.0, 1.0],\n",
       "       [0.0, 1.0],\n",
       "       [0.3, 0.7],\n",
       "       [0.9, 0.1],\n",
       "       [0.1, 0.9],\n",
       "       [0.0, 1.0],\n",
       "       [1.0, 0.0],\n",
       "       [0.0, 1.0],\n",
       "       [0.1, 0.9],\n",
       "       [0.7, 0.3],\n",
       "       [1.0, 0.0],\n",
       "       [0.2, 0.8],\n",
       "       [0.0, 1.0],\n",
       "       [0.9, 0.1],\n",
       "       [0.2, 0.8],\n",
       "       [1.0, 0.0],\n",
       "       [0.0, 1.0],\n",
       "       [0.9, 0.1],\n",
       "       [0.0, 1.0],\n",
       "       [0.3, 0.7],\n",
       "       [0.0, 1.0],\n",
       "       [1.0, 0.0],\n",
       "       [0.8, 0.2]])"
      ]
     },
     "execution_count": 21,
     "metadata": {},
     "output_type": "execute_result"
    }
   ],
   "source": [
    "logreg.predict_proba(x1_test)"
   ]
  },
  {
   "cell_type": "markdown",
   "metadata": {},
   "source": [
    "### Confusion matrix"
   ]
  },
  {
   "cell_type": "code",
   "execution_count": 22,
   "metadata": {},
   "outputs": [
    {
     "data": {
      "text/plain": [
       "array([[64,  6],\n",
       "       [ 3, 97]], dtype=int64)"
      ]
     },
     "execution_count": 22,
     "metadata": {},
     "output_type": "execute_result"
    }
   ],
   "source": [
    "# régression logistique Scikit-Learn\n",
    "model = LogisticRegression(solver='lbfgs')\n",
    "results=model.fit(x1, y)\n",
    "# confusion matrix Scikit-Learn\n",
    "conf_mat = confusion_matrix(y, model.predict(x1))\n",
    "conf_mat"
   ]
  },
  {
   "cell_type": "code",
   "execution_count": 24,
   "metadata": {},
   "outputs": [
    {
     "data": {
      "image/png": "[encoded data removed]",
      "text/plain": [
       "<Figure size 360x360 with 1 Axes>"
      ]
     },
     "metadata": {},
     "output_type": "display_data"
    }
   ],
   "source": [
    "# heatmap\n",
    "plt.figure(figsize=(5,5))\n",
    "\n",
    "sns.heatmap(conf_mat, annot=True, annot_kws={\"size\": 16},\n",
    "            cmap=sns.diverging_palette(10, 220, sep=80, n=2),linewidths=1, linecolor='white',cbar=False)\n",
    "\n",
    "plt.title('Confusion matrix Logit', fontsize=16, color='navy')\n",
    "plt.xlabel('Predicted', size=13, fontweight='bold')\n",
    "plt.ylabel('Actual', size=13, fontweight='bold')\n",
    "\n",
    "plt.savefig('img/P6.3_conf_matrix.png', dpi=120, bbox_inches='tight')\n",
    "plt.show()\n",
    "plt.close()"
   ]
  },
  {
   "cell_type": "markdown",
   "metadata": {},
   "source": [
    "## Algorithme de classification"
   ]
  },
  {
   "cell_type": "markdown",
   "metadata": {},
   "source": [
    "### Test de l'algorithme"
   ]
  },
  {
   "cell_type": "code",
   "execution_count": 25,
   "metadata": {},
   "outputs": [
    {
     "data": {
      "text/html": [
       "<div>\n",
       "<style scoped>\n",
       "    .dataframe tbody tr th:only-of-type {\n",
       "        vertical-align: middle;\n",
       "    }\n",
       "\n",
       "    .dataframe tbody tr th {\n",
       "        vertical-align: top;\n",
       "    }\n",
       "\n",
       "    .dataframe thead th {\n",
       "        text-align: right;\n",
       "    }\n",
       "</style>\n",
       "<table border=\"1\" class=\"dataframe\">\n",
       "  <thead>\n",
       "    <tr style=\"text-align: right;\">\n",
       "      <th></th>\n",
       "      <th>diagonal</th>\n",
       "      <th>height_left</th>\n",
       "      <th>height_right</th>\n",
       "      <th>margin_low</th>\n",
       "      <th>margin_up</th>\n",
       "      <th>length</th>\n",
       "      <th>id</th>\n",
       "    </tr>\n",
       "  </thead>\n",
       "  <tbody>\n",
       "    <tr>\n",
       "      <th>0</th>\n",
       "      <td>171.76</td>\n",
       "      <td>104.01</td>\n",
       "      <td>103.54</td>\n",
       "      <td>5.21</td>\n",
       "      <td>3.30</td>\n",
       "      <td>111.42</td>\n",
       "      <td>A_1</td>\n",
       "    </tr>\n",
       "    <tr>\n",
       "      <th>1</th>\n",
       "      <td>171.87</td>\n",
       "      <td>104.17</td>\n",
       "      <td>104.13</td>\n",
       "      <td>6.00</td>\n",
       "      <td>3.31</td>\n",
       "      <td>112.09</td>\n",
       "      <td>A_2</td>\n",
       "    </tr>\n",
       "    <tr>\n",
       "      <th>2</th>\n",
       "      <td>172.00</td>\n",
       "      <td>104.58</td>\n",
       "      <td>104.29</td>\n",
       "      <td>4.99</td>\n",
       "      <td>3.39</td>\n",
       "      <td>111.57</td>\n",
       "      <td>A_3</td>\n",
       "    </tr>\n",
       "    <tr>\n",
       "      <th>3</th>\n",
       "      <td>172.49</td>\n",
       "      <td>104.55</td>\n",
       "      <td>104.34</td>\n",
       "      <td>4.44</td>\n",
       "      <td>3.03</td>\n",
       "      <td>113.20</td>\n",
       "      <td>A_4</td>\n",
       "    </tr>\n",
       "    <tr>\n",
       "      <th>4</th>\n",
       "      <td>171.65</td>\n",
       "      <td>103.63</td>\n",
       "      <td>103.56</td>\n",
       "      <td>3.77</td>\n",
       "      <td>3.16</td>\n",
       "      <td>113.33</td>\n",
       "      <td>A_5</td>\n",
       "    </tr>\n",
       "  </tbody>\n",
       "</table>\n",
       "</div>"
      ],
      "text/plain": [
       "   diagonal  height_left  height_right  margin_low  margin_up  length   id\n",
       "0    171.76       104.01        103.54        5.21       3.30  111.42  A_1\n",
       "1    171.87       104.17        104.13        6.00       3.31  112.09  A_2\n",
       "2    172.00       104.58        104.29        4.99       3.39  111.57  A_3\n",
       "3    172.49       104.55        104.34        4.44       3.03  113.20  A_4\n",
       "4    171.65       103.63        103.56        3.77       3.16  113.33  A_5"
      ]
     },
     "execution_count": 25,
     "metadata": {},
     "output_type": "execute_result"
    }
   ],
   "source": [
    "# téléchargement du fichier test\n",
    "#data = pd.read_csv('data/mon_fichier_test.csv')\n",
    "data = pd.read_csv('data/example.csv')\n",
    "data"
   ]
  },
  {
   "cell_type": "code",
   "execution_count": 26,
   "metadata": {},
   "outputs": [
    {
     "data": {
      "text/html": [
       "<div>\n",
       "<style scoped>\n",
       "    .dataframe tbody tr th:only-of-type {\n",
       "        vertical-align: middle;\n",
       "    }\n",
       "\n",
       "    .dataframe tbody tr th {\n",
       "        vertical-align: top;\n",
       "    }\n",
       "\n",
       "    .dataframe thead th {\n",
       "        text-align: right;\n",
       "    }\n",
       "</style>\n",
       "<table border=\"1\" class=\"dataframe\">\n",
       "  <thead>\n",
       "    <tr style=\"text-align: right;\">\n",
       "      <th></th>\n",
       "      <th>id</th>\n",
       "      <th>length</th>\n",
       "      <th>diagonal</th>\n",
       "      <th>height_right</th>\n",
       "      <th>margin_up</th>\n",
       "    </tr>\n",
       "  </thead>\n",
       "  <tbody>\n",
       "    <tr>\n",
       "      <th>0</th>\n",
       "      <td>A_1</td>\n",
       "      <td>111.42</td>\n",
       "      <td>171.76</td>\n",
       "      <td>103.54</td>\n",
       "      <td>3.30</td>\n",
       "    </tr>\n",
       "    <tr>\n",
       "      <th>1</th>\n",
       "      <td>A_2</td>\n",
       "      <td>112.09</td>\n",
       "      <td>171.87</td>\n",
       "      <td>104.13</td>\n",
       "      <td>3.31</td>\n",
       "    </tr>\n",
       "    <tr>\n",
       "      <th>2</th>\n",
       "      <td>A_3</td>\n",
       "      <td>111.57</td>\n",
       "      <td>172.00</td>\n",
       "      <td>104.29</td>\n",
       "      <td>3.39</td>\n",
       "    </tr>\n",
       "    <tr>\n",
       "      <th>3</th>\n",
       "      <td>A_4</td>\n",
       "      <td>113.20</td>\n",
       "      <td>172.49</td>\n",
       "      <td>104.34</td>\n",
       "      <td>3.03</td>\n",
       "    </tr>\n",
       "    <tr>\n",
       "      <th>4</th>\n",
       "      <td>A_5</td>\n",
       "      <td>113.33</td>\n",
       "      <td>171.65</td>\n",
       "      <td>103.56</td>\n",
       "      <td>3.16</td>\n",
       "    </tr>\n",
       "  </tbody>\n",
       "</table>\n",
       "</div>"
      ],
      "text/plain": [
       "    id  length  diagonal  height_right  margin_up\n",
       "0  A_1  111.42    171.76        103.54       3.30\n",
       "1  A_2  112.09    171.87        104.13       3.31\n",
       "2  A_3  111.57    172.00        104.29       3.39\n",
       "3  A_4  113.20    172.49        104.34       3.03\n",
       "4  A_5  113.33    171.65        103.56       3.16"
      ]
     },
     "execution_count": 26,
     "metadata": {},
     "output_type": "execute_result"
    }
   ],
   "source": [
    "# mise en forme\n",
    "data.drop(['height_left','margin_low'], axis=1, inplace = True)\n",
    "data = data[['id','length', 'diagonal', 'height_right','margin_up']]\n",
    "data"
   ]
  },
  {
   "cell_type": "code",
   "execution_count": 27,
   "metadata": {},
   "outputs": [
    {
     "data": {
      "text/html": [
       "<div>\n",
       "<style scoped>\n",
       "    .dataframe tbody tr th:only-of-type {\n",
       "        vertical-align: middle;\n",
       "    }\n",
       "\n",
       "    .dataframe tbody tr th {\n",
       "        vertical-align: top;\n",
       "    }\n",
       "\n",
       "    .dataframe thead th {\n",
       "        text-align: right;\n",
       "    }\n",
       "</style>\n",
       "<table border=\"1\" class=\"dataframe\">\n",
       "  <thead>\n",
       "    <tr style=\"text-align: right;\">\n",
       "      <th></th>\n",
       "      <th>is_genuine</th>\n",
       "      <th>length</th>\n",
       "      <th>diagonal</th>\n",
       "      <th>height_left</th>\n",
       "      <th>height_right</th>\n",
       "      <th>margin_low</th>\n",
       "      <th>margin_up</th>\n",
       "    </tr>\n",
       "    <tr>\n",
       "      <th>id</th>\n",
       "      <th></th>\n",
       "      <th></th>\n",
       "      <th></th>\n",
       "      <th></th>\n",
       "      <th></th>\n",
       "      <th></th>\n",
       "      <th></th>\n",
       "    </tr>\n",
       "  </thead>\n",
       "  <tbody>\n",
       "    <tr>\n",
       "      <th>0</th>\n",
       "      <td>True</td>\n",
       "      <td>112.83</td>\n",
       "      <td>171.81</td>\n",
       "      <td>104.86</td>\n",
       "      <td>104.95</td>\n",
       "      <td>4.52</td>\n",
       "      <td>2.89</td>\n",
       "    </tr>\n",
       "    <tr>\n",
       "      <th>1</th>\n",
       "      <td>True</td>\n",
       "      <td>113.29</td>\n",
       "      <td>171.67</td>\n",
       "      <td>103.74</td>\n",
       "      <td>103.70</td>\n",
       "      <td>4.01</td>\n",
       "      <td>2.87</td>\n",
       "    </tr>\n",
       "  </tbody>\n",
       "</table>\n",
       "</div>"
      ],
      "text/plain": [
       "    is_genuine  length  diagonal  height_left  height_right  margin_low  \\\n",
       "id                                                                        \n",
       "0         True  112.83    171.81       104.86        104.95        4.52   \n",
       "1         True  113.29    171.67       103.74        103.70        4.01   \n",
       "\n",
       "    margin_up  \n",
       "id             \n",
       "0        2.89  \n",
       "1        2.87  "
      ]
     },
     "execution_count": 27,
     "metadata": {},
     "output_type": "execute_result"
    }
   ],
   "source": [
    "# rappel du fichier échantillon d'origine 'p_notes.csv'\n",
    "raw.head(2)"
   ]
  },
  {
   "cell_type": "code",
   "execution_count": 28,
   "metadata": {},
   "outputs": [],
   "source": [
    "# déclaration des variables dépendante et indépendantes\n",
    "X = data[['length', 'diagonal', 'height_right','margin_up']].values\n",
    "y=raw.is_genuine.astype('int32')"
   ]
  },
  {
   "cell_type": "code",
   "execution_count": 29,
   "metadata": {},
   "outputs": [
    {
     "data": {
      "text/plain": [
       "LogisticRegression(C=1.0, class_weight=None, dual=False, fit_intercept=True,\n",
       "          intercept_scaling=1, max_iter=100, multi_class='warn',\n",
       "          n_jobs=None, penalty='l2', random_state=0, solver='liblinear',\n",
       "          tol=0.0001, verbose=0, warm_start=False)"
      ]
     },
     "execution_count": 29,
     "metadata": {},
     "output_type": "execute_result"
    }
   ],
   "source": [
    "# rappel de la régression logistique\n",
    "logreg"
   ]
  },
  {
   "cell_type": "code",
   "execution_count": 30,
   "metadata": {},
   "outputs": [
    {
     "data": {
      "text/plain": [
       "array([[0.8, 0.2],\n",
       "       [0.7, 0.3],\n",
       "       [0.9, 0.1],\n",
       "       [0.2, 0.8],\n",
       "       [0.0, 1.0]])"
      ]
     },
     "execution_count": 30,
     "metadata": {},
     "output_type": "execute_result"
    }
   ],
   "source": [
    "# probabilité vrai/faux\n",
    "proba_classes=logreg.predict_proba(X)\n",
    "proba_classes"
   ]
  },
  {
   "cell_type": "markdown",
   "metadata": {},
   "source": [
    "Proba d'etre vrai"
   ]
  },
  {
   "cell_type": "code",
   "execution_count": 31,
   "metadata": {
    "scrolled": true
   },
   "outputs": [
    {
     "data": {
      "text/html": [
       "<div>\n",
       "<style scoped>\n",
       "    .dataframe tbody tr th:only-of-type {\n",
       "        vertical-align: middle;\n",
       "    }\n",
       "\n",
       "    .dataframe tbody tr th {\n",
       "        vertical-align: top;\n",
       "    }\n",
       "\n",
       "    .dataframe thead th {\n",
       "        text-align: right;\n",
       "    }\n",
       "</style>\n",
       "<table border=\"1\" class=\"dataframe\">\n",
       "  <thead>\n",
       "    <tr style=\"text-align: right;\">\n",
       "      <th></th>\n",
       "      <th>id</th>\n",
       "      <th>length</th>\n",
       "      <th>diagonal</th>\n",
       "      <th>height_right</th>\n",
       "      <th>margin_up</th>\n",
       "      <th>proba</th>\n",
       "      <th>status</th>\n",
       "    </tr>\n",
       "  </thead>\n",
       "  <tbody>\n",
       "    <tr>\n",
       "      <th>0</th>\n",
       "      <td>A_1</td>\n",
       "      <td>111.42</td>\n",
       "      <td>171.76</td>\n",
       "      <td>103.54</td>\n",
       "      <td>3.30</td>\n",
       "      <td>0.20</td>\n",
       "      <td>False</td>\n",
       "    </tr>\n",
       "    <tr>\n",
       "      <th>1</th>\n",
       "      <td>A_2</td>\n",
       "      <td>112.09</td>\n",
       "      <td>171.87</td>\n",
       "      <td>104.13</td>\n",
       "      <td>3.31</td>\n",
       "      <td>0.25</td>\n",
       "      <td>False</td>\n",
       "    </tr>\n",
       "    <tr>\n",
       "      <th>2</th>\n",
       "      <td>A_3</td>\n",
       "      <td>111.57</td>\n",
       "      <td>172.00</td>\n",
       "      <td>104.29</td>\n",
       "      <td>3.39</td>\n",
       "      <td>0.05</td>\n",
       "      <td>False</td>\n",
       "    </tr>\n",
       "    <tr>\n",
       "      <th>3</th>\n",
       "      <td>A_4</td>\n",
       "      <td>113.20</td>\n",
       "      <td>172.49</td>\n",
       "      <td>104.34</td>\n",
       "      <td>3.03</td>\n",
       "      <td>0.80</td>\n",
       "      <td>True</td>\n",
       "    </tr>\n",
       "    <tr>\n",
       "      <th>4</th>\n",
       "      <td>A_5</td>\n",
       "      <td>113.33</td>\n",
       "      <td>171.65</td>\n",
       "      <td>103.56</td>\n",
       "      <td>3.16</td>\n",
       "      <td>0.97</td>\n",
       "      <td>True</td>\n",
       "    </tr>\n",
       "  </tbody>\n",
       "</table>\n",
       "</div>"
      ],
      "text/plain": [
       "    id  length  diagonal  height_right  margin_up  proba  status\n",
       "0  A_1  111.42    171.76        103.54       3.30   0.20   False\n",
       "1  A_2  112.09    171.87        104.13       3.31   0.25   False\n",
       "2  A_3  111.57    172.00        104.29       3.39   0.05   False\n",
       "3  A_4  113.20    172.49        104.34       3.03   0.80    True\n",
       "4  A_5  113.33    171.65        103.56       3.16   0.97    True"
      ]
     },
     "execution_count": 31,
     "metadata": {},
     "output_type": "execute_result"
    }
   ],
   "source": [
    "# table des résultats\n",
    "a=pd.Series(proba_classes[:,1],name='proba')\n",
    "\n",
    "result =pd.concat([data,a],axis=1)\n",
    "\n",
    "result['status']=result['proba'] >=0.5\n",
    "result"
   ]
  },
  {
   "cell_type": "markdown",
   "metadata": {},
   "source": [
    "loader un sample du fichier d'origine"
   ]
  },
  {
   "cell_type": "markdown",
   "metadata": {},
   "source": [
    "### Vérification de l'algorithme"
   ]
  },
  {
   "cell_type": "code",
   "execution_count": 32,
   "metadata": {
    "scrolled": true
   },
   "outputs": [
    {
     "data": {
      "text/html": [
       "<div>\n",
       "<style scoped>\n",
       "    .dataframe tbody tr th:only-of-type {\n",
       "        vertical-align: middle;\n",
       "    }\n",
       "\n",
       "    .dataframe tbody tr th {\n",
       "        vertical-align: top;\n",
       "    }\n",
       "\n",
       "    .dataframe thead th {\n",
       "        text-align: right;\n",
       "    }\n",
       "</style>\n",
       "<table border=\"1\" class=\"dataframe\">\n",
       "  <thead>\n",
       "    <tr style=\"text-align: right;\">\n",
       "      <th></th>\n",
       "      <th>id</th>\n",
       "      <th>is_genuine</th>\n",
       "      <th>length</th>\n",
       "      <th>diagonal</th>\n",
       "      <th>height_left</th>\n",
       "      <th>height_right</th>\n",
       "      <th>margin_low</th>\n",
       "      <th>margin_up</th>\n",
       "    </tr>\n",
       "  </thead>\n",
       "  <tbody>\n",
       "    <tr>\n",
       "      <th>0</th>\n",
       "      <td>2</td>\n",
       "      <td>True</td>\n",
       "      <td>113.84</td>\n",
       "      <td>171.83</td>\n",
       "      <td>103.76</td>\n",
       "      <td>103.76</td>\n",
       "      <td>4.40</td>\n",
       "      <td>2.88</td>\n",
       "    </tr>\n",
       "    <tr>\n",
       "      <th>1</th>\n",
       "      <td>12</td>\n",
       "      <td>True</td>\n",
       "      <td>112.91</td>\n",
       "      <td>172.19</td>\n",
       "      <td>104.61</td>\n",
       "      <td>103.69</td>\n",
       "      <td>4.00</td>\n",
       "      <td>3.26</td>\n",
       "    </tr>\n",
       "    <tr>\n",
       "      <th>2</th>\n",
       "      <td>98</td>\n",
       "      <td>True</td>\n",
       "      <td>113.00</td>\n",
       "      <td>172.10</td>\n",
       "      <td>103.98</td>\n",
       "      <td>103.86</td>\n",
       "      <td>4.47</td>\n",
       "      <td>3.06</td>\n",
       "    </tr>\n",
       "    <tr>\n",
       "      <th>3</th>\n",
       "      <td>10</td>\n",
       "      <td>True</td>\n",
       "      <td>113.50</td>\n",
       "      <td>172.27</td>\n",
       "      <td>104.29</td>\n",
       "      <td>104.22</td>\n",
       "      <td>3.89</td>\n",
       "      <td>3.53</td>\n",
       "    </tr>\n",
       "    <tr>\n",
       "      <th>4</th>\n",
       "      <td>7</td>\n",
       "      <td>True</td>\n",
       "      <td>113.38</td>\n",
       "      <td>171.58</td>\n",
       "      <td>103.65</td>\n",
       "      <td>103.37</td>\n",
       "      <td>3.54</td>\n",
       "      <td>3.19</td>\n",
       "    </tr>\n",
       "  </tbody>\n",
       "</table>\n",
       "</div>"
      ],
      "text/plain": [
       "   id  is_genuine  length  diagonal  height_left  height_right  margin_low  \\\n",
       "0   2        True  113.84    171.83       103.76        103.76        4.40   \n",
       "1  12        True  112.91    172.19       104.61        103.69        4.00   \n",
       "2  98        True  113.00    172.10       103.98        103.86        4.47   \n",
       "3  10        True  113.50    172.27       104.29        104.22        3.89   \n",
       "4   7        True  113.38    171.58       103.65        103.37        3.54   \n",
       "\n",
       "   margin_up  \n",
       "0       2.88  \n",
       "1       3.26  \n",
       "2       3.06  \n",
       "3       3.53  \n",
       "4       3.19  "
      ]
     },
     "execution_count": 32,
     "metadata": {},
     "output_type": "execute_result"
    }
   ],
   "source": [
    "# échantillon random du fichier 'notes'\n",
    "test=raw.sample(5).reset_index()\n",
    "t=test.copy()\n",
    "t"
   ]
  },
  {
   "cell_type": "code",
   "execution_count": 33,
   "metadata": {},
   "outputs": [
    {
     "data": {
      "text/html": [
       "<div>\n",
       "<style scoped>\n",
       "    .dataframe tbody tr th:only-of-type {\n",
       "        vertical-align: middle;\n",
       "    }\n",
       "\n",
       "    .dataframe tbody tr th {\n",
       "        vertical-align: top;\n",
       "    }\n",
       "\n",
       "    .dataframe thead th {\n",
       "        text-align: right;\n",
       "    }\n",
       "</style>\n",
       "<table border=\"1\" class=\"dataframe\">\n",
       "  <thead>\n",
       "    <tr style=\"text-align: right;\">\n",
       "      <th></th>\n",
       "      <th>id</th>\n",
       "      <th>length</th>\n",
       "      <th>diagonal</th>\n",
       "      <th>height_right</th>\n",
       "      <th>margin_up</th>\n",
       "    </tr>\n",
       "  </thead>\n",
       "  <tbody>\n",
       "    <tr>\n",
       "      <th>0</th>\n",
       "      <td>2</td>\n",
       "      <td>113.84</td>\n",
       "      <td>171.83</td>\n",
       "      <td>103.76</td>\n",
       "      <td>2.88</td>\n",
       "    </tr>\n",
       "    <tr>\n",
       "      <th>1</th>\n",
       "      <td>12</td>\n",
       "      <td>112.91</td>\n",
       "      <td>172.19</td>\n",
       "      <td>103.69</td>\n",
       "      <td>3.26</td>\n",
       "    </tr>\n",
       "    <tr>\n",
       "      <th>2</th>\n",
       "      <td>98</td>\n",
       "      <td>113.00</td>\n",
       "      <td>172.10</td>\n",
       "      <td>103.86</td>\n",
       "      <td>3.06</td>\n",
       "    </tr>\n",
       "    <tr>\n",
       "      <th>3</th>\n",
       "      <td>10</td>\n",
       "      <td>113.50</td>\n",
       "      <td>172.27</td>\n",
       "      <td>104.22</td>\n",
       "      <td>3.53</td>\n",
       "    </tr>\n",
       "    <tr>\n",
       "      <th>4</th>\n",
       "      <td>7</td>\n",
       "      <td>113.38</td>\n",
       "      <td>171.58</td>\n",
       "      <td>103.37</td>\n",
       "      <td>3.19</td>\n",
       "    </tr>\n",
       "  </tbody>\n",
       "</table>\n",
       "</div>"
      ],
      "text/plain": [
       "   id  length  diagonal  height_right  margin_up\n",
       "0   2  113.84    171.83        103.76       2.88\n",
       "1  12  112.91    172.19        103.69       3.26\n",
       "2  98  113.00    172.10        103.86       3.06\n",
       "3  10  113.50    172.27        104.22       3.53\n",
       "4   7  113.38    171.58        103.37       3.19"
      ]
     },
     "execution_count": 33,
     "metadata": {},
     "output_type": "execute_result"
    }
   ],
   "source": [
    "# mise en forme\n",
    "t.drop(['height_left','margin_low'], axis=1, inplace = True)\n",
    "data = t[['id','length', 'diagonal', 'height_right','margin_up']]\n",
    "data"
   ]
  },
  {
   "cell_type": "code",
   "execution_count": 34,
   "metadata": {},
   "outputs": [],
   "source": [
    "# déclaration des variables dépendante et indépendantes\n",
    "X = data[['length', 'diagonal', 'height_right','margin_up']].values\n",
    "y=raw.is_genuine.astype('int32')"
   ]
  },
  {
   "cell_type": "code",
   "execution_count": 35,
   "metadata": {},
   "outputs": [
    {
     "data": {
      "text/plain": [
       "array([[0.0, 1.0],\n",
       "       [0.1, 0.9],\n",
       "       [0.1, 0.9],\n",
       "       [0.1, 0.9],\n",
       "       [0.0, 1.0]])"
      ]
     },
     "execution_count": 35,
     "metadata": {},
     "output_type": "execute_result"
    }
   ],
   "source": [
    "# probabilité vrai/faux\n",
    "proba_classes=logreg.predict_proba(X)\n",
    "proba_classes"
   ]
  },
  {
   "cell_type": "code",
   "execution_count": 36,
   "metadata": {},
   "outputs": [
    {
     "data": {
      "text/html": [
       "<div>\n",
       "<style scoped>\n",
       "    .dataframe tbody tr th:only-of-type {\n",
       "        vertical-align: middle;\n",
       "    }\n",
       "\n",
       "    .dataframe tbody tr th {\n",
       "        vertical-align: top;\n",
       "    }\n",
       "\n",
       "    .dataframe thead th {\n",
       "        text-align: right;\n",
       "    }\n",
       "</style>\n",
       "<table border=\"1\" class=\"dataframe\">\n",
       "  <thead>\n",
       "    <tr style=\"text-align: right;\">\n",
       "      <th></th>\n",
       "      <th>id</th>\n",
       "      <th>length</th>\n",
       "      <th>diagonal</th>\n",
       "      <th>height_right</th>\n",
       "      <th>margin_up</th>\n",
       "      <th>proba</th>\n",
       "      <th>status</th>\n",
       "    </tr>\n",
       "  </thead>\n",
       "  <tbody>\n",
       "    <tr>\n",
       "      <th>0</th>\n",
       "      <td>2</td>\n",
       "      <td>113.84</td>\n",
       "      <td>171.83</td>\n",
       "      <td>103.76</td>\n",
       "      <td>2.88</td>\n",
       "      <td>0.99</td>\n",
       "      <td>True</td>\n",
       "    </tr>\n",
       "    <tr>\n",
       "      <th>1</th>\n",
       "      <td>12</td>\n",
       "      <td>112.91</td>\n",
       "      <td>172.19</td>\n",
       "      <td>103.69</td>\n",
       "      <td>3.26</td>\n",
       "      <td>0.87</td>\n",
       "      <td>True</td>\n",
       "    </tr>\n",
       "    <tr>\n",
       "      <th>2</th>\n",
       "      <td>98</td>\n",
       "      <td>113.00</td>\n",
       "      <td>172.10</td>\n",
       "      <td>103.86</td>\n",
       "      <td>3.06</td>\n",
       "      <td>0.88</td>\n",
       "      <td>True</td>\n",
       "    </tr>\n",
       "    <tr>\n",
       "      <th>3</th>\n",
       "      <td>10</td>\n",
       "      <td>113.50</td>\n",
       "      <td>172.27</td>\n",
       "      <td>104.22</td>\n",
       "      <td>3.53</td>\n",
       "      <td>0.86</td>\n",
       "      <td>True</td>\n",
       "    </tr>\n",
       "    <tr>\n",
       "      <th>4</th>\n",
       "      <td>7</td>\n",
       "      <td>113.38</td>\n",
       "      <td>171.58</td>\n",
       "      <td>103.37</td>\n",
       "      <td>3.19</td>\n",
       "      <td>0.98</td>\n",
       "      <td>True</td>\n",
       "    </tr>\n",
       "  </tbody>\n",
       "</table>\n",
       "</div>"
      ],
      "text/plain": [
       "   id  length  diagonal  height_right  margin_up  proba  status\n",
       "0   2  113.84    171.83        103.76       2.88   0.99    True\n",
       "1  12  112.91    172.19        103.69       3.26   0.87    True\n",
       "2  98  113.00    172.10        103.86       3.06   0.88    True\n",
       "3  10  113.50    172.27        104.22       3.53   0.86    True\n",
       "4   7  113.38    171.58        103.37       3.19   0.98    True"
      ]
     },
     "execution_count": 36,
     "metadata": {},
     "output_type": "execute_result"
    }
   ],
   "source": [
    "# table des résultats\n",
    "a=pd.Series(proba_classes[:,1],name='proba')\n",
    "\n",
    "result =pd.concat([data,a],axis=1)\n",
    "\n",
    "result['status']=result['proba'] >=0.5\n",
    "result"
   ]
  },
  {
   "cell_type": "code",
   "execution_count": null,
   "metadata": {},
   "outputs": [],
   "source": []
  },
  {
   "cell_type": "code",
   "execution_count": null,
   "metadata": {},
   "outputs": [],
   "source": []
  },
  {
   "cell_type": "code",
   "execution_count": null,
   "metadata": {},
   "outputs": [],
   "source": []
  },
  {
   "cell_type": "code",
   "execution_count": null,
   "metadata": {},
   "outputs": [],
   "source": []
  }
 ],
 "metadata": {
  "kernelspec": {
   "display_name": "Python 3",
   "language": "python",
   "name": "python3"
  },
  "language_info": {
   "codemirror_mode": {
    "name": "ipython",
    "version": 3
   },
   "file_extension": ".py",
   "mimetype": "text/x-python",
   "name": "python",
   "nbconvert_exporter": "python",
   "pygments_lexer": "ipython3",
   "version": "3.7.3"
  },
  "toc": {
   "base_numbering": 1,
   "nav_menu": {},
   "number_sections": true,
   "sideBar": true,
   "skip_h1_title": true,
   "title_cell": "Table des matières",
   "title_sidebar": "TDM",
   "toc_cell": true,
   "toc_position": {
    "height": "calc(100% - 180px)",
    "left": "10px",
    "top": "150px",
    "width": "165px"
   },
   "toc_section_display": true,
   "toc_window_display": true
  },
  "varInspector": {
   "cols": {
    "lenName": 16,
    "lenType": 16,
    "lenVar": 40
   },
   "kernels_config": {
    "python": {
     "delete_cmd_postfix": "",
     "delete_cmd_prefix": "del ",
     "library": "var_list.py",
     "varRefreshCmd": "print(var_dic_list())"
    },
    "r": {
     "delete_cmd_postfix": ") ",
     "delete_cmd_prefix": "rm(",
     "library": "var_list.r",
     "varRefreshCmd": "cat(var_dic_list()) "
    }
   },
   "types_to_exclude": [
    "module",
    "function",
    "builtin_function_or_method",
    "instance",
    "_Feature"
   ],
   "window_display": false
  }
 },
 "nbformat": 4,
 "nbformat_minor": 2
}
